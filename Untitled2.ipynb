{
  "nbformat": 4,
  "nbformat_minor": 0,
  "metadata": {
    "colab": {
      "provenance": [],
      "mount_file_id": "1PbCj1wHUqW71qPY0SO1w3VwVsQ4a7Cl0",
      "authorship_tag": "ABX9TyPSduJJhleP1PmnKoVDDByn",
      "include_colab_link": true
    },
    "kernelspec": {
      "name": "python3",
      "display_name": "Python 3"
    },
    "language_info": {
      "name": "python"
    }
  },
  "cells": [
    {
      "cell_type": "markdown",
      "metadata": {
        "id": "view-in-github",
        "colab_type": "text"
      },
      "source": [
        "<a href=\"https://colab.research.google.com/github/DIOovo/DIOovo/blob/main/Untitled2.ipynb\" target=\"_parent\"><img src=\"https://colab.research.google.com/assets/colab-badge.svg\" alt=\"Open In Colab\"/></a>"
      ]
    },
    {
      "cell_type": "code",
      "source": [
        "import numpy as np\n",
        "import csv\n",
        "import os\n",
        "import pandas as pd\n",
        "import matplotlib.pyplot as plt\n",
        "from scipy.stats import skew\n",
        "from scipy.stats import kurtosis\n",
        "import numpy as np\n",
        "#import seaborn as sns\n",
        "from sklearn.model_selection import train_test_split\n",
        "from sklearn.metrics import confusion_matrix\n",
        "from sklearn.metrics import accuracy_score\n",
        "import pandas as pd\n",
        "import matplotlib.pyplot as plt\n",
        "from matplotlib.backends.backend_pdf import PdfPages\n",
        "from sklearn.model_selection import StratifiedKFold\n",
        "from sklearn.linear_model import LogisticRegression\n",
        "from sklearn.model_selection import GridSearchCV\n",
        "import numpy as np\n",
        "from sklearn.model_selection import train_test_split\n",
        "from sklearn.metrics import confusion_matrix\n",
        "from sklearn.metrics import accuracy_score\n",
        "import pandas as pd\n",
        "import matplotlib.pyplot as plt\n",
        "from matplotlib.backends.backend_pdf import PdfPages\n",
        "from sklearn.model_selection import StratifiedKFold\n",
        "from sklearn.ensemble import RandomForestClassifier\n",
        "from sklearn.model_selection import GridSearchCV\n",
        "import scipy.stats as stats"
      ],
      "metadata": {
        "id": "s-jb9_IEDOqf"
      },
      "execution_count": null,
      "outputs": []
    },
    {
      "cell_type": "code",
      "source": [
        "df = pd.read_csv('now1.csv')\n",
        "X = df[['featureallrising_mean',\n",
        "                        'featureallrising_fft_std',\n",
        "                        'featureallrising_fft_mean',\n",
        "                        'featureallrising_max',\n",
        "                        'featureallrising_fft_plateau',\n",
        "                        'featureallrising_std',\n",
        "                         'featureallrising_skew',\n",
        "                         'featureallrising_plateau',\n",
        "                         'featureallrising_kurt']]\n",
        "#X = df[['mean_G00','stdev_G00','variance_G00','skew_G00','kurtosis_G00','max_G00','min_G00','rms_G00','en_G00','mean_fft_G00','stdev_fft_G00','variance_fft_G00','skew_fft_G00','kurtosis_fft_G00','max_fft_G00','min_fft_G00','rms_fft_G00','en_fft_G00','mean_G01','stdev_G01','variance_G01','skew_G01','kurtosis_G01','max_G01','min_G01','rms_G01','en_G01','mean_fft_G01','stdev_fft_G01','variance_fft_G01','skew_fft_G01','kurtosis_fft_G01','max_fft_G01','min_fft_G01','rms_fft_G01','en_fft_G01','mean_G10','stdev_G10','variance_G10','skew_G10','kurtosis_G10','max_G10','min_G10','rms_G10','en_G10','mean_fft_G10','stdev_fft_G10','variance_fft_G10','skew_fft_G10','kurtosis_fft_G10','max_fft_G10','min_fft_G10','rms_fft_G10','en_fft_G10']]\n",
        "#Y = df['label'].map({'ECU1': 1, 'ECU2': 2, 'ECU3': 3, 'ECU5': 5, 'ECU6': 6, 'ECU7': 7, 'ECU8': 8, 'ECU9': 9, 'ECU10': 10, 'ECU11': 11, 'ECU12': 12, 'ECU13': 13, 'ECU14': 14, 'ECU15': 15, 'ECU16': 16, 'ECU17': 17, 'ECU18': 18, 'ECU19': 19, 'ECU20': 20, 'ECU21': 21, 'ECU22': 22, 'ECU23': 23, 'ECU24': 24, 'ECU25': 25, 'ECU26': 26, 'ECU27': 27, 'ECU28': 28, 'ECU29': 29, 'ECU30': 30, 'ECU31': 31, 'ECU32': 32, 'ECU33': 33, 'ECU34': 34, 'ECU35': 35, 'ECU36': 36, 'ECU37': 37, 'ECU38': 38, 'ECU39': 39, 'ECU40': 40, 'ECU41': 41, 'ECU42': 42, 'ECU43': 43, 'ECU44': 44, 'ECU45': 45, 'ECU46': 46, 'ECU47': 47, 'ECU48': 48, 'ECU49': 49, 'ECU50': 50, 'ECU51': 51, 'ECU52': 52, 'ECU53': 53, 'ECU54': 54})\n",
        "Y = df['label'].map({'ECU1': 1, 'ECU2': 2, 'ECU3': 3, 'ECU4': 4, 'ECU5': 5, 'ECU6': 6, 'ECU7': 7, 'ECU8': 8, 'ECU9': 9, 'ECU10': 10, 'ECU11': 11, 'ECU12': 12, 'ECU13': 13, 'ECU14': 14, 'ECU15': 15, 'ECU16': 16, 'ECU17': 17, 'ECU18': 18, 'ECU19': 19, 'ECU20': 20, 'ECU22': 22, 'ECU23': 23, 'ECU24': 24, 'ECU25': 25, 'ECU26': 26, 'ECU27': 27, 'ECU28': 28, 'ECU29': 29, 'ECU30': 30, 'ECU31': 31, 'ECU32': 32, 'ECU33': 33, 'ECU34': 34, 'ECU36': 36, 'ECU37': 37, 'ECU38': 38, 'ECU39': 39, 'ECU40': 40, 'ECU41': 41, 'ECU42': 42, 'ECU43': 43, 'ECU44': 44, 'ECU45': 45, 'ECU46': 46, 'ECU47': 47, 'ECU48': 48, 'ECU49': 49, 'ECU50': 50, 'ECU51': 51, 'ECU52': 52, 'ECU53': 53, 'ECU54': 54})"
      ],
      "metadata": {
        "id": "JWvZY5JxDTUD"
      },
      "execution_count": 11,
      "outputs": []
    },
    {
      "cell_type": "code",
      "source": [
        "X_train, X_test, Y_train, Y_test = train_test_split(X, Y, test_size = 0.2, random_state = 0)\n"
      ],
      "metadata": {
        "id": "Lpez93BzDW4G"
      },
      "execution_count": null,
      "outputs": []
    },
    {
      "cell_type": "code",
      "source": [
        "X_train = X[~(X.index % 5 == 4)]\n",
        "Y_train = Y[~(Y.index % 5 == 4)]\n",
        "X_test = X[X.index % 5 == 4]\n",
        "Y_test = Y[Y.index % 5 == 4]"
      ],
      "metadata": {
        "id": "7SqDyNBvMW2F"
      },
      "execution_count": 12,
      "outputs": []
    },
    {
      "cell_type": "code",
      "source": [
        "Y_test"
      ],
      "metadata": {
        "colab": {
          "base_uri": "https://localhost:8080/"
        },
        "id": "MIJ9rmoj8XHa",
        "outputId": "503328e6-b718-4f12-bfe1-6c48183a136b"
      },
      "execution_count": 20,
      "outputs": [
        {
          "output_type": "execute_result",
          "data": {
            "text/plain": [
              "4        1\n",
              "9        1\n",
              "14       1\n",
              "19       1\n",
              "24       1\n",
              "        ..\n",
              "2579    54\n",
              "2584    54\n",
              "2589    54\n",
              "2594    54\n",
              "2599    54\n",
              "Name: label, Length: 520, dtype: int64"
            ]
          },
          "metadata": {},
          "execution_count": 20
        }
      ]
    },
    {
      "cell_type": "code",
      "source": [
        "X = pd.DataFrame(X)\n",
        "Y = pd.DataFrame(Y)"
      ],
      "metadata": {
        "id": "MlF3MBe-NTWz"
      },
      "execution_count": 13,
      "outputs": []
    },
    {
      "cell_type": "code",
      "source": [
        "param_grid = {\"penalty\": ['l2'],\n",
        "                  \"C\":[0.001, 0.01, 0.1, 1.0, 10,100],\n",
        "                  \"solver\": ['newton-cg', 'lbfgs', 'liblinear', 'sag', 'saga'],\n",
        "                  #\"max_iter\": [100, 1000, 10000],\n",
        "                  \"tol\": [0.0001, 0.001],\n",
        "                  \"max_iter\": [100, 500, 1000],\n",
        "                  }\n",
        "\n",
        "forest_grid = GridSearchCV(estimator = LogisticRegression(random_state=0),\n",
        "                            param_grid = param_grid,\n",
        "                            scoring = \"accuracy\", #metrics\n",
        "                            cv = 5,               #cross-validation\n",
        "                            n_jobs = 4)           #number of core\n",
        "\n",
        "#forest_grid.fit(X,arr_ravel) #fit\n",
        "forest_grid.fit(X,Y) #fit\n"
      ],
      "metadata": {
        "id": "hzw8mxUCDayw",
        "colab": {
          "base_uri": "https://localhost:8080/",
          "height": 191
        },
        "outputId": "0850a627-ddf3-490d-8335-793764a3589c"
      },
      "execution_count": 14,
      "outputs": [
        {
          "output_type": "stream",
          "name": "stderr",
          "text": [
            "/usr/local/lib/python3.10/dist-packages/sklearn/utils/validation.py:1143: DataConversionWarning: A column-vector y was passed when a 1d array was expected. Please change the shape of y to (n_samples, ), for example using ravel().\n",
            "  y = column_or_1d(y, warn=True)\n",
            "/usr/local/lib/python3.10/dist-packages/sklearn/utils/optimize.py:210: ConvergenceWarning: newton-cg failed to converge. Increase the number of iterations.\n",
            "  warnings.warn(\n"
          ]
        },
        {
          "output_type": "execute_result",
          "data": {
            "text/plain": [
              "GridSearchCV(cv=5, estimator=LogisticRegression(random_state=0), n_jobs=4,\n",
              "             param_grid={'C': [0.001, 0.01, 0.1, 1.0, 10, 100],\n",
              "                         'max_iter': [100, 500, 1000], 'penalty': ['l2'],\n",
              "                         'solver': ['newton-cg', 'lbfgs', 'liblinear', 'sag',\n",
              "                                    'saga'],\n",
              "                         'tol': [0.0001, 0.001]},\n",
              "             scoring='accuracy')"
            ],
            "text/html": [
              "<style>#sk-container-id-2 {color: black;background-color: white;}#sk-container-id-2 pre{padding: 0;}#sk-container-id-2 div.sk-toggleable {background-color: white;}#sk-container-id-2 label.sk-toggleable__label {cursor: pointer;display: block;width: 100%;margin-bottom: 0;padding: 0.3em;box-sizing: border-box;text-align: center;}#sk-container-id-2 label.sk-toggleable__label-arrow:before {content: \"▸\";float: left;margin-right: 0.25em;color: #696969;}#sk-container-id-2 label.sk-toggleable__label-arrow:hover:before {color: black;}#sk-container-id-2 div.sk-estimator:hover label.sk-toggleable__label-arrow:before {color: black;}#sk-container-id-2 div.sk-toggleable__content {max-height: 0;max-width: 0;overflow: hidden;text-align: left;background-color: #f0f8ff;}#sk-container-id-2 div.sk-toggleable__content pre {margin: 0.2em;color: black;border-radius: 0.25em;background-color: #f0f8ff;}#sk-container-id-2 input.sk-toggleable__control:checked~div.sk-toggleable__content {max-height: 200px;max-width: 100%;overflow: auto;}#sk-container-id-2 input.sk-toggleable__control:checked~label.sk-toggleable__label-arrow:before {content: \"▾\";}#sk-container-id-2 div.sk-estimator input.sk-toggleable__control:checked~label.sk-toggleable__label {background-color: #d4ebff;}#sk-container-id-2 div.sk-label input.sk-toggleable__control:checked~label.sk-toggleable__label {background-color: #d4ebff;}#sk-container-id-2 input.sk-hidden--visually {border: 0;clip: rect(1px 1px 1px 1px);clip: rect(1px, 1px, 1px, 1px);height: 1px;margin: -1px;overflow: hidden;padding: 0;position: absolute;width: 1px;}#sk-container-id-2 div.sk-estimator {font-family: monospace;background-color: #f0f8ff;border: 1px dotted black;border-radius: 0.25em;box-sizing: border-box;margin-bottom: 0.5em;}#sk-container-id-2 div.sk-estimator:hover {background-color: #d4ebff;}#sk-container-id-2 div.sk-parallel-item::after {content: \"\";width: 100%;border-bottom: 1px solid gray;flex-grow: 1;}#sk-container-id-2 div.sk-label:hover label.sk-toggleable__label {background-color: #d4ebff;}#sk-container-id-2 div.sk-serial::before {content: \"\";position: absolute;border-left: 1px solid gray;box-sizing: border-box;top: 0;bottom: 0;left: 50%;z-index: 0;}#sk-container-id-2 div.sk-serial {display: flex;flex-direction: column;align-items: center;background-color: white;padding-right: 0.2em;padding-left: 0.2em;position: relative;}#sk-container-id-2 div.sk-item {position: relative;z-index: 1;}#sk-container-id-2 div.sk-parallel {display: flex;align-items: stretch;justify-content: center;background-color: white;position: relative;}#sk-container-id-2 div.sk-item::before, #sk-container-id-2 div.sk-parallel-item::before {content: \"\";position: absolute;border-left: 1px solid gray;box-sizing: border-box;top: 0;bottom: 0;left: 50%;z-index: -1;}#sk-container-id-2 div.sk-parallel-item {display: flex;flex-direction: column;z-index: 1;position: relative;background-color: white;}#sk-container-id-2 div.sk-parallel-item:first-child::after {align-self: flex-end;width: 50%;}#sk-container-id-2 div.sk-parallel-item:last-child::after {align-self: flex-start;width: 50%;}#sk-container-id-2 div.sk-parallel-item:only-child::after {width: 0;}#sk-container-id-2 div.sk-dashed-wrapped {border: 1px dashed gray;margin: 0 0.4em 0.5em 0.4em;box-sizing: border-box;padding-bottom: 0.4em;background-color: white;}#sk-container-id-2 div.sk-label label {font-family: monospace;font-weight: bold;display: inline-block;line-height: 1.2em;}#sk-container-id-2 div.sk-label-container {text-align: center;}#sk-container-id-2 div.sk-container {/* jupyter's `normalize.less` sets `[hidden] { display: none; }` but bootstrap.min.css set `[hidden] { display: none !important; }` so we also need the `!important` here to be able to override the default hidden behavior on the sphinx rendered scikit-learn.org. See: https://github.com/scikit-learn/scikit-learn/issues/21755 */display: inline-block !important;position: relative;}#sk-container-id-2 div.sk-text-repr-fallback {display: none;}</style><div id=\"sk-container-id-2\" class=\"sk-top-container\"><div class=\"sk-text-repr-fallback\"><pre>GridSearchCV(cv=5, estimator=LogisticRegression(random_state=0), n_jobs=4,\n",
              "             param_grid={&#x27;C&#x27;: [0.001, 0.01, 0.1, 1.0, 10, 100],\n",
              "                         &#x27;max_iter&#x27;: [100, 500, 1000], &#x27;penalty&#x27;: [&#x27;l2&#x27;],\n",
              "                         &#x27;solver&#x27;: [&#x27;newton-cg&#x27;, &#x27;lbfgs&#x27;, &#x27;liblinear&#x27;, &#x27;sag&#x27;,\n",
              "                                    &#x27;saga&#x27;],\n",
              "                         &#x27;tol&#x27;: [0.0001, 0.001]},\n",
              "             scoring=&#x27;accuracy&#x27;)</pre><b>In a Jupyter environment, please rerun this cell to show the HTML representation or trust the notebook. <br />On GitHub, the HTML representation is unable to render, please try loading this page with nbviewer.org.</b></div><div class=\"sk-container\" hidden><div class=\"sk-item sk-dashed-wrapped\"><div class=\"sk-label-container\"><div class=\"sk-label sk-toggleable\"><input class=\"sk-toggleable__control sk-hidden--visually\" id=\"sk-estimator-id-4\" type=\"checkbox\" ><label for=\"sk-estimator-id-4\" class=\"sk-toggleable__label sk-toggleable__label-arrow\">GridSearchCV</label><div class=\"sk-toggleable__content\"><pre>GridSearchCV(cv=5, estimator=LogisticRegression(random_state=0), n_jobs=4,\n",
              "             param_grid={&#x27;C&#x27;: [0.001, 0.01, 0.1, 1.0, 10, 100],\n",
              "                         &#x27;max_iter&#x27;: [100, 500, 1000], &#x27;penalty&#x27;: [&#x27;l2&#x27;],\n",
              "                         &#x27;solver&#x27;: [&#x27;newton-cg&#x27;, &#x27;lbfgs&#x27;, &#x27;liblinear&#x27;, &#x27;sag&#x27;,\n",
              "                                    &#x27;saga&#x27;],\n",
              "                         &#x27;tol&#x27;: [0.0001, 0.001]},\n",
              "             scoring=&#x27;accuracy&#x27;)</pre></div></div></div><div class=\"sk-parallel\"><div class=\"sk-parallel-item\"><div class=\"sk-item\"><div class=\"sk-label-container\"><div class=\"sk-label sk-toggleable\"><input class=\"sk-toggleable__control sk-hidden--visually\" id=\"sk-estimator-id-5\" type=\"checkbox\" ><label for=\"sk-estimator-id-5\" class=\"sk-toggleable__label sk-toggleable__label-arrow\">estimator: LogisticRegression</label><div class=\"sk-toggleable__content\"><pre>LogisticRegression(random_state=0)</pre></div></div></div><div class=\"sk-serial\"><div class=\"sk-item\"><div class=\"sk-estimator sk-toggleable\"><input class=\"sk-toggleable__control sk-hidden--visually\" id=\"sk-estimator-id-6\" type=\"checkbox\" ><label for=\"sk-estimator-id-6\" class=\"sk-toggleable__label sk-toggleable__label-arrow\">LogisticRegression</label><div class=\"sk-toggleable__content\"><pre>LogisticRegression(random_state=0)</pre></div></div></div></div></div></div></div></div></div></div>"
            ]
          },
          "metadata": {},
          "execution_count": 14
        }
      ]
    },
    {
      "cell_type": "code",
      "source": [
        "import pickle\n",
        "with open('grid_search_params.pkl', 'wb') as file:\n",
        "    pickle.dump(forest_grid.best_params_, file)"
      ],
      "metadata": {
        "id": "UfsOFi16QZnu"
      },
      "execution_count": 17,
      "outputs": []
    },
    {
      "cell_type": "code",
      "source": [
        "from google.colab import drive\n",
        "drive.mount('/content/drive')"
      ],
      "metadata": {
        "id": "soBhHPhhI6OC"
      },
      "execution_count": null,
      "outputs": []
    },
    {
      "cell_type": "code",
      "source": [
        "from sklearn.metrics import classification_report"
      ],
      "metadata": {
        "id": "LDNXJLqgBWp-"
      },
      "execution_count": 18,
      "outputs": []
    },
    {
      "cell_type": "code",
      "source": [
        "import time\n",
        "\n",
        "start_time = time.time()\n",
        "X = pd.DataFrame(X)\n",
        "Y = pd.DataFrame(Y)\n",
        "forest_grid_best = forest_grid.best_estimator_ #best estimator\n",
        "print(\"Best Model Parameter: \", forest_grid.best_params_)\n",
        "\n",
        "GS_penalty = forest_grid.best_params_['penalty']\n",
        "GS_C = forest_grid.best_params_['C']\n",
        "GS_solver = forest_grid.best_params_['solver']\n",
        "GS_max_iter = forest_grid.best_params_['max_iter']\n",
        "GS_tol = forest_grid.best_params_['tol']\n",
        "\n",
        "# lr\n",
        "\n",
        "lr = LogisticRegression(penalty=GS_penalty, C=GS_C, solver=GS_solver, max_iter=GS_max_iter, tol=GS_tol)\n",
        "\n",
        "# K-fold cross validation\n",
        "kfold = StratifiedKFold(n_splits=5, shuffle=True)\n",
        "cvscores = []\n",
        "X = X.values\n",
        "Y = Y.values\n",
        "for train, test in kfold.split(X, Y):\n",
        "    lr.fit(X[train], Y[train])\n",
        "    Y_pred = lr.predict(X[test])\n",
        "    scores = accuracy_score(Y[test], Y_pred)\n",
        "    cvscores.append(scores*100)\n",
        "    print('Test accuracy:', scores)\n",
        "\n",
        "# K-fold result\n",
        "print(\"%.2f%% (+/- %.2f%%)\" % (np.mean(cvscores), np.std(cvscores)))\n",
        "\n",
        "# plot heatmap\n",
        "lr.fit(X_train, Y_train)\n",
        "Y_pred = lr.predict(X_test)\n",
        "C = confusion_matrix(Y_test, Y_pred)\n",
        "# Normalization\n",
        "NC = C / C.astype(np.float).sum(axis=1)\n",
        "#NC = 6\n",
        "#NC = NC.reshape(6, 6)\n",
        "report = classification_report(Y_test, Y_pred)\n",
        "print(report)\n",
        "\n",
        "end_time = time.time()\n",
        "exECUtion_time = (end_time - start_time) * 1000  # 将秒转换为毫秒\n",
        "\n",
        "print(\"程序执行时间：%.2f ms\" % exECUtion_time)\n",
        "## plot\n",
        "#X_combined = np.vstack((X_train, X_test))\n",
        "#y_combined = np.hstack((Y_train, Y_test))\n",
        "##df = pd.DataFrame(NC, index=['ECU1', 'ECU2', 'ECU3', 'ECU5', 'ECU6', 'ECU7'], columns=['ECU1', 'ECU2', 'ECU3', 'ECU5', 'ECU6', 'ECU7'])\n",
        "#df = pd.DataFrame(matrix, index=['ECU1', 'ECU2', 'ECU3', 'ECU4', 'ECU5', 'ECU6', 'ECU7', 'ECU8', 'ECU9', 'ECU10', 'ECU11', 'ECU12', 'ECU13', 'ECU14', 'ECU15', 'ECU16', 'ECU17', 'ECU18', 'ECU19', 'ECU20', 'ECU22', 'ECU23', 'ECU24', 'ECU25', 'ECU26', 'ECU27', 'ECU28', 'ECU29', 'ECU30', 'ECU31', 'ECU32', 'ECU33', 'ECU34', 'ECU36', 'ECU37', 'ECU38', 'ECU39', 'ECU40', 'ECU41', 'ECU42', 'ECU43', 'ECU44', 'ECU45', 'ECU46', 'ECU47', 'ECU48', 'ECU49', 'ECU50', 'ECU51', 'ECU52', 'ECU53', 'ECU54'], columns=['ECU1', 'ECU2', 'ECU3', 'ECU4', 'ECU5', 'ECU6', 'ECU7', 'ECU8', 'ECU9', 'ECU10', 'ECU11', 'ECU12', 'ECU13', 'ECU14', 'ECU15', 'ECU16', 'ECU17', 'ECU18', 'ECU19', 'ECU20', 'ECU22', 'ECU23', 'ECU24', 'ECU25', 'ECU26', 'ECU27', 'ECU28', 'ECU29', 'ECU30', 'ECU31', 'ECU32', 'ECU33', 'ECU34', 'ECU36', 'ECU37', 'ECU38', 'ECU39', 'ECU40', 'ECU41', 'ECU42', 'ECU43', 'ECU44', 'ECU45', 'ECU46', 'ECU47', 'ECU48', 'ECU49', 'ECU50', 'ECU51', 'ECU52', 'ECU53', 'ECU54'])\n",
        "#fig = plt.figure()\n",
        "#sns.heatmap(df, cmap=\"Greens\", annot=True, fmt=\".4f\")\n",
        "#plt.yticks(rotation=0)\n",
        "#plt.xlabel('Predicted label')\n",
        "#plt.ylabel('Actual label')\n",
        "#pp = PdfPages('lr_confusion.pdf')\n",
        "#pp.savefig(fig)\n",
        "##pp.close()\n",
        "##plt.close('all')"
      ],
      "metadata": {
        "id": "Y4SU4QQwDc5K",
        "colab": {
          "base_uri": "https://localhost:8080/"
        },
        "outputId": "902c8ce5-af9c-46bf-e72b-8f7d56d72337"
      },
      "execution_count": 19,
      "outputs": [
        {
          "output_type": "stream",
          "name": "stdout",
          "text": [
            "Best Model Parameter:  {'C': 100, 'max_iter': 1000, 'penalty': 'l2', 'solver': 'newton-cg', 'tol': 0.0001}\n"
          ]
        },
        {
          "output_type": "stream",
          "name": "stderr",
          "text": [
            "/usr/local/lib/python3.10/dist-packages/sklearn/utils/validation.py:1143: DataConversionWarning: A column-vector y was passed when a 1d array was expected. Please change the shape of y to (n_samples, ), for example using ravel().\n",
            "  y = column_or_1d(y, warn=True)\n",
            "/usr/local/lib/python3.10/dist-packages/sklearn/utils/optimize.py:210: ConvergenceWarning: newton-cg failed to converge. Increase the number of iterations.\n",
            "  warnings.warn(\n",
            "/usr/local/lib/python3.10/dist-packages/sklearn/utils/validation.py:1143: DataConversionWarning: A column-vector y was passed when a 1d array was expected. Please change the shape of y to (n_samples, ), for example using ravel().\n",
            "  y = column_or_1d(y, warn=True)\n"
          ]
        },
        {
          "output_type": "stream",
          "name": "stdout",
          "text": [
            "Test accuracy: 0.9884615384615385\n"
          ]
        },
        {
          "output_type": "stream",
          "name": "stderr",
          "text": [
            "/usr/local/lib/python3.10/dist-packages/sklearn/utils/optimize.py:210: ConvergenceWarning: newton-cg failed to converge. Increase the number of iterations.\n",
            "  warnings.warn(\n",
            "/usr/local/lib/python3.10/dist-packages/sklearn/utils/validation.py:1143: DataConversionWarning: A column-vector y was passed when a 1d array was expected. Please change the shape of y to (n_samples, ), for example using ravel().\n",
            "  y = column_or_1d(y, warn=True)\n"
          ]
        },
        {
          "output_type": "stream",
          "name": "stdout",
          "text": [
            "Test accuracy: 0.9903846153846154\n"
          ]
        },
        {
          "output_type": "stream",
          "name": "stderr",
          "text": [
            "/usr/local/lib/python3.10/dist-packages/sklearn/utils/optimize.py:210: ConvergenceWarning: newton-cg failed to converge. Increase the number of iterations.\n",
            "  warnings.warn(\n",
            "/usr/local/lib/python3.10/dist-packages/sklearn/utils/validation.py:1143: DataConversionWarning: A column-vector y was passed when a 1d array was expected. Please change the shape of y to (n_samples, ), for example using ravel().\n",
            "  y = column_or_1d(y, warn=True)\n"
          ]
        },
        {
          "output_type": "stream",
          "name": "stdout",
          "text": [
            "Test accuracy: 0.9865384615384616\n"
          ]
        },
        {
          "output_type": "stream",
          "name": "stderr",
          "text": [
            "/usr/local/lib/python3.10/dist-packages/sklearn/utils/optimize.py:210: ConvergenceWarning: newton-cg failed to converge. Increase the number of iterations.\n",
            "  warnings.warn(\n",
            "/usr/local/lib/python3.10/dist-packages/sklearn/utils/validation.py:1143: DataConversionWarning: A column-vector y was passed when a 1d array was expected. Please change the shape of y to (n_samples, ), for example using ravel().\n",
            "  y = column_or_1d(y, warn=True)\n"
          ]
        },
        {
          "output_type": "stream",
          "name": "stdout",
          "text": [
            "Test accuracy: 0.9942307692307693\n"
          ]
        },
        {
          "output_type": "stream",
          "name": "stderr",
          "text": [
            "/usr/local/lib/python3.10/dist-packages/sklearn/utils/optimize.py:210: ConvergenceWarning: newton-cg failed to converge. Increase the number of iterations.\n",
            "  warnings.warn(\n"
          ]
        },
        {
          "output_type": "stream",
          "name": "stdout",
          "text": [
            "Test accuracy: 0.9846153846153847\n",
            "98.88% (+/- 0.33%)\n",
            "              precision    recall  f1-score   support\n",
            "\n",
            "           1       1.00      1.00      1.00        10\n",
            "           2       0.91      1.00      0.95        10\n",
            "           3       1.00      1.00      1.00        10\n",
            "           4       1.00      1.00      1.00        10\n",
            "           5       1.00      1.00      1.00        10\n",
            "           6       1.00      1.00      1.00        10\n",
            "           7       0.83      1.00      0.91        10\n",
            "           8       1.00      1.00      1.00        10\n",
            "           9       1.00      1.00      1.00        10\n",
            "          10       1.00      1.00      1.00        10\n",
            "          11       1.00      1.00      1.00        10\n",
            "          12       1.00      1.00      1.00        10\n",
            "          13       1.00      1.00      1.00        10\n",
            "          14       1.00      0.80      0.89        10\n",
            "          15       1.00      1.00      1.00        10\n",
            "          16       1.00      0.80      0.89        10\n",
            "          17       1.00      1.00      1.00        10\n",
            "          18       1.00      1.00      1.00        10\n",
            "          19       1.00      1.00      1.00        10\n",
            "          20       1.00      1.00      1.00        10\n",
            "          22       1.00      1.00      1.00        10\n",
            "          23       1.00      1.00      1.00        10\n",
            "          24       1.00      1.00      1.00        10\n",
            "          25       1.00      1.00      1.00        10\n",
            "          26       1.00      0.80      0.89        10\n",
            "          27       0.83      1.00      0.91        10\n",
            "          28       1.00      1.00      1.00        10\n",
            "          29       1.00      1.00      1.00        10\n",
            "          30       1.00      0.90      0.95        10\n",
            "          31       1.00      1.00      1.00        10\n",
            "          32       1.00      1.00      1.00        10\n",
            "          33       1.00      1.00      1.00        10\n",
            "          34       1.00      1.00      1.00        10\n",
            "          36       1.00      1.00      1.00        10\n",
            "          37       1.00      1.00      1.00        10\n",
            "          38       1.00      1.00      1.00        10\n",
            "          39       1.00      1.00      1.00        10\n",
            "          40       1.00      1.00      1.00        10\n",
            "          41       1.00      1.00      1.00        10\n",
            "          42       1.00      1.00      1.00        10\n",
            "          43       1.00      1.00      1.00        10\n",
            "          44       0.83      1.00      0.91        10\n",
            "          45       1.00      1.00      1.00        10\n",
            "          46       1.00      1.00      1.00        10\n",
            "          47       1.00      1.00      1.00        10\n",
            "          48       1.00      1.00      1.00        10\n",
            "          49       1.00      1.00      1.00        10\n",
            "          50       1.00      1.00      1.00        10\n",
            "          51       1.00      1.00      1.00        10\n",
            "          52       1.00      1.00      1.00        10\n",
            "          53       1.00      1.00      1.00        10\n",
            "          54       1.00      1.00      1.00        10\n",
            "\n",
            "    accuracy                           0.99       520\n",
            "   macro avg       0.99      0.99      0.99       520\n",
            "weighted avg       0.99      0.99      0.99       520\n",
            "\n",
            "程序执行时间：1568064.62 ms\n"
          ]
        },
        {
          "output_type": "stream",
          "name": "stderr",
          "text": [
            "/usr/local/lib/python3.10/dist-packages/sklearn/utils/optimize.py:210: ConvergenceWarning: newton-cg failed to converge. Increase the number of iterations.\n",
            "  warnings.warn(\n",
            "<ipython-input-19-da2058f4e968>:39: DeprecationWarning: `np.float` is a deprecated alias for the builtin `float`. To silence this warning, use `float` by itself. Doing this will not modify any behavior and is safe. If you specifically wanted the numpy scalar type, use `np.float64` here.\n",
            "Deprecated in NumPy 1.20; for more details and guidance: https://numpy.org/devdocs/release/1.20.0-notes.html#deprecations\n",
            "  NC = C / C.astype(np.float).sum(axis=1)\n"
          ]
        }
      ]
    }
  ]
}